{
 "cells": [
  {
   "cell_type": "markdown",
   "metadata": {},
   "source": [
    "## Рассылка электронных писем"
   ]
  },
  {
   "cell_type": "markdown",
   "metadata": {},
   "source": [
    "**Импортируем нужные пакеты**"
   ]
  },
  {
   "cell_type": "code",
   "execution_count": null,
   "metadata": {},
   "outputs": [],
   "source": [
    "import openpyxl, smtplib\n",
    "from email.mime.multipart import MIMEMultipart\n",
    "from email.mime.text import MIMEText\n",
    "from email.mime.image import MIMEImage\n",
    "from email.mime.base import MIMEBase\n",
    "from email import encoders"
   ]
  },
  {
   "cell_type": "markdown",
   "metadata": {},
   "source": [
    "**Работа с excel файлом**"
   ]
  },
  {
   "cell_type": "code",
   "execution_count": null,
   "metadata": {},
   "outputs": [],
   "source": [
    "#открываем нужный файл - test_for_emails.xlsx\n",
    "wb = openpyxl.load_workbook('test_for_emails.xlsx')\n",
    "\n",
    "#Указываем название листа в файле из которого будем брать информацию для рассылки\n",
    "sheet = wb['Лист1']\n",
    "\n",
    "#Создаем словарь, куда вносим отправителей. **Важно!** Первый столбец: имя отправителя. Второй столбец: Электронные адреса отправителей.\n",
    "customers = {}\n",
    "name = 1\n",
    "\n",
    "for i, x in sheet.values:\n",
    "     customers[i] = x"
   ]
  },
  {
   "cell_type": "markdown",
   "metadata": {},
   "source": [
    "Проверяем, как произошла запись в словарь"
   ]
  },
  {
   "cell_type": "code",
   "execution_count": null,
   "metadata": {},
   "outputs": [],
   "source": [
    "customers"
   ]
  },
  {
   "cell_type": "markdown",
   "metadata": {},
   "source": [
    "**Работа с сообщением**"
   ]
  },
  {
   "cell_type": "code",
   "execution_count": null,
   "metadata": {},
   "outputs": [],
   "source": [
    "#Создание сообщения. В данном случае используем формат html.\n",
    "msg = MIMEMultipart()\n",
    "\n",
    "message = \"\"\"\\\n",
    "<html>\n",
    "  <head></head>\n",
    "  <body>\n",
    "    <p>Добрый вечер!<br>\n",
    "        Давно выяснено, что при оценке дизайна и композиции читаемый текст мешает сосредоточиться.<br>\n",
    "        Lorem Ipsum используют потому, что тот обеспечивает более или менее стандартное заполнение шаблона, а также реальное распределение букв и пробелов в абзацах, которое не получается при простой дубликации \"Здесь ваш текст..<br>\n",
    "        Здесь ваш текст.. Здесь ваш текст..<br>\n",
    "        \" Многие программы электронной вёрстки и редакторы HTML используют Lorem Ipsum в качестве текста по умолчанию, так что поиск по ключевым словам \"lorem ipsum\" сразу показывает, как много веб-страниц всё ещё дожидаются своего настоящего рождения.<br>\n",
    "        За прошедшие годы текст Lorem Ipsum получил много версий.<br>\n",
    "        Некоторые версии появились по ошибке, некоторые - намеренно (например, юмористические варианты).<br>\n",
    "        <br>\n",
    "        Дополнительная информация<br>\n",
    "        <br>\n",
    "        Подпись<br>\n",
    "        Должность<br>\n",
    "        <br>\n",
    "        Телефон<br>\n",
    "        Факсbr>\n",
    "        <br>\n",
    "        Какая-либо еще информация<br>\n",
    "    </p>\n",
    "  </body>\n",
    "</html>\n",
    "\n",
    "\"\"\""
   ]
  },
  {
   "cell_type": "markdown",
   "metadata": {},
   "source": [
    "**Настройка отправки сообщения**"
   ]
  },
  {
   "cell_type": "code",
   "execution_count": null,
   "metadata": {},
   "outputs": [],
   "source": [
    "#Пароль от аккаунат\n",
    "password = 'PASS'\n",
    "\n",
    "#Электронной почта с которой будет отправка\n",
    "msg['From'] = 'e-mail'\n",
    "\n",
    "#Тема письма\n",
    "msg['Subject'] = 'Тема письма'"
   ]
  },
  {
   "cell_type": "markdown",
   "metadata": {},
   "source": [
    "**Вложения к письму**"
   ]
  },
  {
   "cell_type": "code",
   "execution_count": null,
   "metadata": {},
   "outputs": [],
   "source": [
    "#Имя вложения, которое будет видеть адресат\n",
    "filename = 'special_offer.pdf'\n",
    "\n",
    "#Путь местонахождения вложения\n",
    "attachment = open(\"special_offer.pdf\", \"rb\")\n",
    "\n",
    "#Настройка сообщения и вложений\n",
    "part = MIMEBase('application', 'octet-stream')\n",
    "part.set_payload((attachment).read())\n",
    "encoders.encode_base64(part)\n",
    "part.add_header('Content-Disposition', \"attachment; filename= %s\" % filename)\n",
    "\n",
    "msg.attach(part)\n",
    "\n",
    "#Задаем, что будет в самом сообщении и передаем формат сообщения\n",
    "msg.attach(MIMEText(message, 'html'))"
   ]
  },
  {
   "cell_type": "markdown",
   "metadata": {},
   "source": [
    "**Подключение**"
   ]
  },
  {
   "cell_type": "code",
   "execution_count": null,
   "metadata": {},
   "outputs": [],
   "source": [
    "#Создаем подключение. В данном случае - это google\n",
    "server = smtplib.SMTP('smtp.gmail.com: 587')\n",
    " \n",
    "server.starttls()\n",
    "\n",
    "#Логинимся для отправки сообщения\n",
    "server.login(msg['From'], password)"
   ]
  },
  {
   "cell_type": "markdown",
   "metadata": {},
   "source": [
    "**Отправка сообщения**"
   ]
  },
  {
   "cell_type": "code",
   "execution_count": null,
   "metadata": {},
   "outputs": [],
   "source": [
    "for name, email in customers.items():\n",
    "    try:\n",
    "        server.sendmail(msg['From'], email, msg.as_string())\n",
    "        print(f'Отправлено на адрес: {(email)}')\n",
    "    except:\n",
    "        print(f'--> Ошибка отправки на: {(email)}. Адресат: {(name)}.')\n",
    "server.quit()"
   ]
  },
  {
   "cell_type": "markdown",
   "metadata": {},
   "source": [
    "--> отправка на 200 адресов, потом идет закрытие соединения. Доделать код."
   ]
  }
 ],
 "metadata": {
  "kernelspec": {
   "display_name": "Python 3",
   "language": "python",
   "name": "python3"
  },
  "language_info": {
   "codemirror_mode": {
    "name": "ipython",
    "version": 3
   },
   "file_extension": ".py",
   "mimetype": "text/x-python",
   "name": "python",
   "nbconvert_exporter": "python",
   "pygments_lexer": "ipython3",
   "version": "3.8.5"
  }
 },
 "nbformat": 4,
 "nbformat_minor": 4
}
